{
 "cells": [
  {
   "cell_type": "markdown",
   "metadata": {},
   "source": [
    "This notebook is used to test the app and iterate."
   ]
  },
  {
   "cell_type": "markdown",
   "metadata": {},
   "source": [
    "Some tests"
   ]
  },
  {
   "cell_type": "code",
   "execution_count": null,
   "metadata": {},
   "outputs": [],
   "source": [
    "import requests\n",
    "import json"
   ]
  },
  {
   "cell_type": "code",
   "execution_count": null,
   "metadata": {},
   "outputs": [],
   "source": [
    "# Send post request to add a block\n",
    "url = \"http://127.0.0.1:5000/block\"\n",
    "blockobj = {\"owner\": \"Bob\", \"amount\":9000}\n",
    "# Confirm block doesn't exist\n",
    "x = requests.get(url, json = json.dumps(blockobj))\n",
    "assert x.status_code == 404\n"
   ]
  },
  {
   "cell_type": "code",
   "execution_count": null,
   "metadata": {},
   "outputs": [],
   "source": [
    "\n",
    "# Create the block\n",
    "x = requests.post(url, json = json.dumps(blockobj))\n",
    "assert x.status_code == 201\n",
    "# TODO fail to create duplicate blocks"
   ]
  },
  {
   "cell_type": "code",
   "execution_count": null,
   "metadata": {},
   "outputs": [],
   "source": [
    "# Query to confirm block does now exist\n",
    "x = requests.get(url, json = json.dumps(blockobj))\n",
    "assert x.status_code == 200"
   ]
  }
 ],
 "metadata": {
  "kernelspec": {
   "display_name": "Python 3.10.8 64-bit ('3.10.8')",
   "language": "python",
   "name": "python3"
  },
  "language_info": {
   "codemirror_mode": {
    "name": "ipython",
    "version": 3
   },
   "file_extension": ".py",
   "mimetype": "text/x-python",
   "name": "python",
   "nbconvert_exporter": "python",
   "pygments_lexer": "ipython3",
   "version": "3.10.8"
  },
  "orig_nbformat": 4,
  "vscode": {
   "interpreter": {
    "hash": "49bbb508978511563dc0ba17f16924a2d285e79cca18eaf9be68dbf39837396b"
   }
  }
 },
 "nbformat": 4,
 "nbformat_minor": 2
}
